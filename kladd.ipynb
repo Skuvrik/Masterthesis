{
 "cells": [
  {
   "cell_type": "code",
   "execution_count": 1,
   "metadata": {},
   "outputs": [],
   "source": [
    "import numpy as np\n",
    "import pandas as pd\n",
    "import os, re, random, gc\n",
    "import pydicom as pdc\n",
    "from utils.datahandling_utils import createImageArray\n"
   ]
  },
  {
   "cell_type": "code",
   "execution_count": 2,
   "metadata": {},
   "outputs": [],
   "source": [
    "SEED = 41\n",
    "BATCH_SIZE = 64\n",
    "random.seed(SEED)"
   ]
  },
  {
   "cell_type": "code",
   "execution_count": 3,
   "metadata": {},
   "outputs": [],
   "source": [
    "label_path = \"D:/AIFs/AIFs/durable/BorrSci_MR_Data/Output\"\n",
    "image_path = \"D:/iCAT_IMAGES\""
   ]
  },
  {
   "cell_type": "code",
   "execution_count": 5,
   "metadata": {},
   "outputs": [
    {
     "name": "stderr",
     "output_type": "stream",
     "text": [
      "C:\\Users\\svenalrik\\AppData\\Local\\Temp\\ipykernel_10492\\4254050036.py:1: FutureWarning: In a future version of pandas all arguments of read_csv except for the argument 'filepath_or_buffer' will be keyword-only.\n",
      "  data = pd.read_csv(\"data_indices.csv\", \",\", index_col = 0)\n"
     ]
    }
   ],
   "source": [
    "data = pd.read_csv(\"data_indices.csv\", \",\", index_col = 0)\n",
    "data = data.sort_values([\"Patient\", \"Volume\", \"Slice\"], ignore_index=True)"
   ]
  },
  {
   "cell_type": "code",
   "execution_count": 6,
   "metadata": {},
   "outputs": [],
   "source": [
    "# patient = data.loc[(data['Patient']==14)]\n",
    "# details = []\n",
    "# for pos in range(patient.shape[0]):\n",
    "#     dcm = pdc.read_file(patient.iloc[pos]['ImagePath'])\n",
    "#     details.append([dcm.AcquisitionNumber, dcm.SliceLocation])"
   ]
  },
  {
   "cell_type": "code",
   "execution_count": 7,
   "metadata": {},
   "outputs": [],
   "source": [
    "# pd = pd.DataFrame(details, columns=[\"ImagePos\", \"InstanceNumber\", \"AcqNumber\", \"SeriesNumber\", \"SliceLocation\"])"
   ]
  },
  {
   "cell_type": "code",
   "execution_count": 8,
   "metadata": {},
   "outputs": [],
   "source": [
    "# acquisition number = volume, slice location = slice number\n",
    "# np.unique(pd['SliceLocation'])\n"
   ]
  },
  {
   "cell_type": "code",
   "execution_count": 11,
   "metadata": {},
   "outputs": [],
   "source": [
    "def getPaths(path):\n",
    "    paths = []\n",
    "    dir_list = []\n",
    "    for root, dirs, files in os.walk(path):\n",
    "        if len(dirs) < 1:\n",
    "            for i in range(len(files)):\n",
    "                path = '/'\n",
    "                path_list = (root+'/'+files[i]).split('\\\\')\n",
    "                path = path.join(path_list)\n",
    "                paths.append(path)\n",
    "        else:\n",
    "            dir_list.append(dirs)\n",
    "    if len(dir_list) < 1:\n",
    "        return paths, dir_list\n",
    "    return paths, dir_list[0]\n",
    "\n",
    "# Må tilpasses slik at sailor datasettet også kan indekseres.\n",
    "def createImageIndexCSV(path, force=False):\n",
    "    result_file_path = \"data_indices.csv\"\n",
    "    if os.path.isfile(result_file_path) and not force:\n",
    "        return pd.read_csv(result_file_path, delimiter=',', index_col=0)\n",
    "    result_frame = []\n",
    "    paths, dirs = getPaths(path)\n",
    "    for patient in dirs:\n",
    "        patient_data = []\n",
    "        slice_positions = []\n",
    "        patient_paths = get_list_of_paths(paths, patient)\n",
    "        for image_path in patient_paths:\n",
    "            dcm = pdc.read_file(image_path)\n",
    "            patient_data.append([patient, int(dcm.AcquisitionNumber), dcm.SliceLocation, image_path])\n",
    "            slice_positions.append(dcm.SliceLocation)\n",
    "        slice_positions = np.unique(np.array(slice_positions))\n",
    "        for data in patient_data:\n",
    "            slice_num = np.where(slice_positions == data[2])\n",
    "            result_frame.append([data[0], data[1], int(slice_num[0]) + 1, data[3]])\n",
    "    df = pd.DataFrame(result_frame, columns= [\"Patient\", \"Volume\", \"Slice\", \"ImagePath\"])\n",
    "    df.to_csv(result_file_path)\n",
    "    return df\n",
    "\n",
    "def get_list_of_paths(paths, patient):\n",
    "    patient_filter = re.compile(\"(.*?)\\/\" + patient + \"\\/.*\")\n",
    "    patient_paths = list(filter(patient_filter.match, paths))\n",
    "    return patient_paths\n",
    "\n",
    "def get_curr_slice_and_volume(image, num_slices = 48):\n",
    "    split_list = image.split(\"_\")\n",
    "    number = int(split_list[-1].split(\".\")[0])\n",
    "    if (number <= num_slices):\n",
    "        slice_num = number % (num_slices + 1)\n",
    "        volume_num = number // (num_slices + 1)\n",
    "    elif number % num_slices == 0:\n",
    "        slice_num = num_slices\n",
    "        volume_num = (number // num_slices) - 1\n",
    "    else:\n",
    "        slice_num = number % num_slices\n",
    "        volume_num = number // num_slices \n",
    "    return slice_num, volume_num+1"
   ]
  },
  {
   "cell_type": "code",
   "execution_count": 12,
   "metadata": {},
   "outputs": [
    {
     "data": {
      "text/html": [
       "<div>\n",
       "<style scoped>\n",
       "    .dataframe tbody tr th:only-of-type {\n",
       "        vertical-align: middle;\n",
       "    }\n",
       "\n",
       "    .dataframe tbody tr th {\n",
       "        vertical-align: top;\n",
       "    }\n",
       "\n",
       "    .dataframe thead th {\n",
       "        text-align: right;\n",
       "    }\n",
       "</style>\n",
       "<table border=\"1\" class=\"dataframe\">\n",
       "  <thead>\n",
       "    <tr style=\"text-align: right;\">\n",
       "      <th></th>\n",
       "      <th>Patient</th>\n",
       "      <th>Volume</th>\n",
       "      <th>Slice</th>\n",
       "      <th>ImagePath</th>\n",
       "    </tr>\n",
       "  </thead>\n",
       "  <tbody>\n",
       "    <tr>\n",
       "      <th>0</th>\n",
       "      <td>001</td>\n",
       "      <td>1</td>\n",
       "      <td>[1]</td>\n",
       "      <td>D:/iCAT_IMAGES/001/001_20_1.dcm</td>\n",
       "    </tr>\n",
       "    <tr>\n",
       "      <th>1</th>\n",
       "      <td>001</td>\n",
       "      <td>1</td>\n",
       "      <td>[10]</td>\n",
       "      <td>D:/iCAT_IMAGES/001/001_20_10.dcm</td>\n",
       "    </tr>\n",
       "    <tr>\n",
       "      <th>2</th>\n",
       "      <td>001</td>\n",
       "      <td>3</td>\n",
       "      <td>[4]</td>\n",
       "      <td>D:/iCAT_IMAGES/001/001_20_100.dcm</td>\n",
       "    </tr>\n",
       "    <tr>\n",
       "      <th>3</th>\n",
       "      <td>001</td>\n",
       "      <td>21</td>\n",
       "      <td>[40]</td>\n",
       "      <td>D:/iCAT_IMAGES/001/001_20_1000.dcm</td>\n",
       "    </tr>\n",
       "    <tr>\n",
       "      <th>4</th>\n",
       "      <td>001</td>\n",
       "      <td>21</td>\n",
       "      <td>[41]</td>\n",
       "      <td>D:/iCAT_IMAGES/001/001_20_1001.dcm</td>\n",
       "    </tr>\n",
       "    <tr>\n",
       "      <th>...</th>\n",
       "      <td>...</td>\n",
       "      <td>...</td>\n",
       "      <td>...</td>\n",
       "      <td>...</td>\n",
       "    </tr>\n",
       "    <tr>\n",
       "      <th>268794</th>\n",
       "      <td>070</td>\n",
       "      <td>21</td>\n",
       "      <td>[35]</td>\n",
       "      <td>D:/iCAT_IMAGES/070/006_18_995.dcm</td>\n",
       "    </tr>\n",
       "    <tr>\n",
       "      <th>268795</th>\n",
       "      <td>070</td>\n",
       "      <td>21</td>\n",
       "      <td>[36]</td>\n",
       "      <td>D:/iCAT_IMAGES/070/006_18_996.dcm</td>\n",
       "    </tr>\n",
       "    <tr>\n",
       "      <th>268796</th>\n",
       "      <td>070</td>\n",
       "      <td>21</td>\n",
       "      <td>[37]</td>\n",
       "      <td>D:/iCAT_IMAGES/070/006_18_997.dcm</td>\n",
       "    </tr>\n",
       "    <tr>\n",
       "      <th>268797</th>\n",
       "      <td>070</td>\n",
       "      <td>21</td>\n",
       "      <td>[38]</td>\n",
       "      <td>D:/iCAT_IMAGES/070/006_18_998.dcm</td>\n",
       "    </tr>\n",
       "    <tr>\n",
       "      <th>268798</th>\n",
       "      <td>070</td>\n",
       "      <td>21</td>\n",
       "      <td>[39]</td>\n",
       "      <td>D:/iCAT_IMAGES/070/006_18_999.dcm</td>\n",
       "    </tr>\n",
       "  </tbody>\n",
       "</table>\n",
       "<p>268799 rows × 4 columns</p>\n",
       "</div>"
      ],
      "text/plain": [
       "       Patient  Volume Slice                           ImagePath\n",
       "0          001       1   [1]     D:/iCAT_IMAGES/001/001_20_1.dcm\n",
       "1          001       1  [10]    D:/iCAT_IMAGES/001/001_20_10.dcm\n",
       "2          001       3   [4]   D:/iCAT_IMAGES/001/001_20_100.dcm\n",
       "3          001      21  [40]  D:/iCAT_IMAGES/001/001_20_1000.dcm\n",
       "4          001      21  [41]  D:/iCAT_IMAGES/001/001_20_1001.dcm\n",
       "...        ...     ...   ...                                 ...\n",
       "268794     070      21  [35]   D:/iCAT_IMAGES/070/006_18_995.dcm\n",
       "268795     070      21  [36]   D:/iCAT_IMAGES/070/006_18_996.dcm\n",
       "268796     070      21  [37]   D:/iCAT_IMAGES/070/006_18_997.dcm\n",
       "268797     070      21  [38]   D:/iCAT_IMAGES/070/006_18_998.dcm\n",
       "268798     070      21  [39]   D:/iCAT_IMAGES/070/006_18_999.dcm\n",
       "\n",
       "[268799 rows x 4 columns]"
      ]
     },
     "execution_count": 12,
     "metadata": {},
     "output_type": "execute_result"
    }
   ],
   "source": [
    "createImageIndexCSV(image_path, force=True)"
   ]
  },
  {
   "cell_type": "code",
   "execution_count": 26,
   "metadata": {},
   "outputs": [],
   "source": [
    "# import matplotlib.pyplot as plt\n",
    "# max_slopes = np.zeros((array.shape[1], array.shape[2]))\n",
    "# for row in range(array.shape[1]):\n",
    "#     for col in range(array.shape[2]):\n",
    "#         slopes = np.zeros(array.shape[0]-1)\n",
    "#         for i in range(array.shape[0]-1):\n",
    "#             slope = array[i+1, row, col] - array[i, row, col]\n",
    "#             slopes[i] = slope\n",
    "#         max_slopes[row, col] = np.max(slopes)"
   ]
  },
  {
   "cell_type": "code",
   "execution_count": 10,
   "metadata": {},
   "outputs": [],
   "source": [
    "# _ = get_AIF_KMeans(slices, seed=SEED, visualize=True)"
   ]
  },
  {
   "cell_type": "code",
   "execution_count": 11,
   "metadata": {},
   "outputs": [],
   "source": [
    "# class IndexTracker:\n",
    "#     def __init__(self, ax, X):\n",
    "#         self.ax = ax\n",
    "#         ax.set_title('use scroll wheel to navigate images')\n",
    "\n",
    "#         self.X = X\n",
    "#         self.slices, rows, cols = X.shape\n",
    "#         self.ind = self.slices//2\n",
    "\n",
    "#         self.im = ax.imshow(self.X[self.ind, :, :])\n",
    "#         self.update()\n",
    "\n",
    "#     def on_scroll(self, event):\n",
    "#         print(\"%s %s\" % (event.button, event.step))\n",
    "#         if event.button == 'up':\n",
    "#             self.ind = (self.ind + 1) % self.slices\n",
    "#         else:\n",
    "#             self.ind = (self.ind - 1) % self.slices\n",
    "#         self.update()\n",
    "\n",
    "#     def update(self):\n",
    "#         self.im.set_data(self.X[self.ind, :, :])\n",
    "#         self.ax.set_ylabel('slice %s' % self.ind)\n",
    "#         self.im.axes.figure.canvas.draw()\n",
    "\n"
   ]
  },
  {
   "cell_type": "code",
   "execution_count": 12,
   "metadata": {},
   "outputs": [],
   "source": [
    "# %matplotlib qt\n",
    "# fig, ax = plt.subplots(1, 1)\n",
    "\n",
    "# tracker = IndexTracker(ax, slices)\n",
    "\n",
    "\n",
    "# fig.canvas.mpl_connect('scroll_event', tracker.on_scroll)\n",
    "# plt.show()"
   ]
  },
  {
   "cell_type": "code",
   "execution_count": null,
   "metadata": {},
   "outputs": [],
   "source": []
  }
 ],
 "metadata": {
  "kernelspec": {
   "display_name": "dev-env",
   "language": "python",
   "name": "python3"
  },
  "language_info": {
   "codemirror_mode": {
    "name": "ipython",
    "version": 3
   },
   "file_extension": ".py",
   "mimetype": "text/x-python",
   "name": "python",
   "nbconvert_exporter": "python",
   "pygments_lexer": "ipython3",
   "version": "3.8.15"
  },
  "orig_nbformat": 4,
  "vscode": {
   "interpreter": {
    "hash": "53ae4386a8a369d45cfc817803211de947c89524368a6c2e800bd680dfb4a1fb"
   }
  }
 },
 "nbformat": 4,
 "nbformat_minor": 2
}
