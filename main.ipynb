{
 "cells": [
  {
   "cell_type": "markdown",
   "metadata": {},
   "source": [
    "### Kladdefil for håndtering av data osv."
   ]
  },
  {
   "cell_type": "code",
   "execution_count": 14,
   "metadata": {},
   "outputs": [],
   "source": [
    "# Imports\n",
    "import os\n",
    "import numpy as np\n",
    "import pydicom as pdc\n",
    "import pandas as pd\n",
    "from pydicom.fileset import FileSet\n",
    "import matplotlib.pyplot as plt\n",
    "from pydicom_contrib import read_files\n",
    "import dense_net as dn\n",
    "path_to_single_image = \"D:/iCAT_IMAGES/001/001_20_2626.dcm\"\n",
    "main_path = \"D:/iCAT_IMAGES/001\""
   ]
  },
  {
   "cell_type": "code",
   "execution_count": 40,
   "metadata": {},
   "outputs": [
    {
     "name": "stderr",
     "output_type": "stream",
     "text": [
      "c:\\Users\\Sven Alrik\\AppData\\Local\\Programs\\Python\\Python310\\lib\\site-packages\\pydicom\\valuerep.py:290: UserWarning: Invalid value for VR CS: 'MR Caput'. Please see <https://dicom.nema.org/medical/dicom/current/output/html/part05.html#table_6.2-1> for allowed values for each VR.\n",
      "  warnings.warn(msg)\n"
     ]
    }
   ],
   "source": [
    "volumes = read_files(main_path)"
   ]
  },
  {
   "cell_type": "code",
   "execution_count": 22,
   "metadata": {},
   "outputs": [],
   "source": [
    "dense_net = dn.DenseNet3(depth=60)"
   ]
  },
  {
   "cell_type": "code",
   "execution_count": 23,
   "metadata": {},
   "outputs": [
    {
     "name": "stdout",
     "output_type": "stream",
     "text": [
      "Number of model parameters: 312470\n"
     ]
    }
   ],
   "source": [
    "print('Number of model parameters: {}'.format(\n",
    "    sum([p.data.nelement() for p in dense_net.parameters()])))"
   ]
  },
  {
   "cell_type": "code",
   "execution_count": 24,
   "metadata": {},
   "outputs": [],
   "source": [
    "dense_net = dense_net.cuda()"
   ]
  },
  {
   "cell_type": "code",
   "execution_count": null,
   "metadata": {},
   "outputs": [],
   "source": []
  }
 ],
 "metadata": {
  "kernelspec": {
   "display_name": "Python 3.10.7 64-bit",
   "language": "python",
   "name": "python3"
  },
  "language_info": {
   "codemirror_mode": {
    "name": "ipython",
    "version": 3
   },
   "file_extension": ".py",
   "mimetype": "text/x-python",
   "name": "python",
   "nbconvert_exporter": "python",
   "pygments_lexer": "ipython3",
   "version": "3.10.7"
  },
  "orig_nbformat": 4,
  "vscode": {
   "interpreter": {
    "hash": "254980037fba5f652ffae1d93b19c2d867700c56f5ec8345d05e9fe2c4071f2c"
   }
  }
 },
 "nbformat": 4,
 "nbformat_minor": 2
}
