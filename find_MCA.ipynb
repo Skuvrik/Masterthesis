{
 "cells": [
  {
   "cell_type": "markdown",
   "metadata": {},
   "source": [
    "## Notebook for using DenseNet to tell if the MCA is visible for a slice\n",
    "Pipeline:\n",
    "- Import data\n",
    "- Find volume with the highest cumulative intensity for each patient\n",
    "- Discard all other volumes\n",
    "- Perform train, val, test split\n",
    "- Normalize data <- todo?\n",
    "- Initialize model\n",
    "- Train model\n",
    "- Test model\n",
    "- Visualize results\n",
    "- Use KMeans to extract AIFs"
   ]
  },
  {
   "cell_type": "code",
   "execution_count": 1,
   "metadata": {},
   "outputs": [],
   "source": [
    "# Imports\n",
    "import torch\n",
    "import numpy as np\n",
    "import pandas as pd\n",
    "import pydicom as pdc\n",
    "from utils.datahandling_utils import createImageIndexCSV, get_train_test_split_on_patients, get_max_intensity_for_dataset\n",
    "from models.dense_net import DenseNet3\n",
    "from utils.model_utils import train_and_eval\n",
    "\n",
    "SEED = 41\n",
    "np.random.seed(SEED)\n",
    "BATCH_SIZE = 16\n",
    "EPOCHS = 10\n",
    "image_path = \"D:/iCAT_IMAGES\"\n",
    "aif_path = \"D:/AIFs/AIFs/durable/BorrSci_MR_Data/Output\"\n",
    "device = 'cuda:0' if torch.cuda.is_available() else 'cpu'"
   ]
  },
  {
   "cell_type": "code",
   "execution_count": 2,
   "metadata": {},
   "outputs": [],
   "source": [
    "# Import images (paths)\n",
    "image_data = createImageIndexCSV(image_path)\n",
    "# Import annotations\n",
    "mca_labels = pd.read_excel('MCA_labels.xlsx')\n",
    "mca_labels = mca_labels[:34]\n",
    "mca_labels = mca_labels.drop(mca_labels[mca_labels['Patient'] == 11].index) # Patient 11 is missing a file\n",
    "image_data = image_data[image_data['Patient'].isin(mca_labels['Patient'])]"
   ]
  },
  {
   "cell_type": "code",
   "execution_count": 3,
   "metadata": {},
   "outputs": [],
   "source": [
    "# Change the label dataframe to be compatible with efficient datahandling\n",
    "mca_labels = pd.melt(mca_labels, id_vars = ['Patient'], var_name='Slice', value_name='Label').sort_values(['Patient', 'Slice'])"
   ]
  },
  {
   "cell_type": "code",
   "execution_count": 4,
   "metadata": {},
   "outputs": [],
   "source": [
    "vol_intensities = get_max_intensity_for_dataset(image_data)"
   ]
  },
  {
   "cell_type": "code",
   "execution_count": 5,
   "metadata": {},
   "outputs": [
    {
     "name": "stdout",
     "output_type": "stream",
     "text": [
      "Added data 515. Original amount of data 1584\n"
     ]
    }
   ],
   "source": [
    "# Only keep the relevant volumes\n",
    "from utils.datahandling_utils import filter_on_intensity_and_add_data\n",
    "extra_vols = 5\n",
    "copy_data = filter_on_intensity_and_add_data(image_data, mca_labels, vol_intensities, extra_vols)"
   ]
  },
  {
   "cell_type": "code",
   "execution_count": 6,
   "metadata": {},
   "outputs": [],
   "source": [
    "train_images, test_images = get_train_test_split_on_patients(copy_data)"
   ]
  },
  {
   "cell_type": "code",
   "execution_count": 7,
   "metadata": {},
   "outputs": [],
   "source": [
    "train_labels = np.isin(mca_labels['Patient'], np.unique(train_images['Patient']))\n",
    "train_labels = mca_labels[train_labels]\n",
    "test_labels = np.isin(mca_labels['Patient'], np.unique(test_images['Patient']))\n",
    "test_labels = mca_labels[test_labels]"
   ]
  },
  {
   "cell_type": "code",
   "execution_count": 8,
   "metadata": {},
   "outputs": [],
   "source": [
    "# Permutate labels\n",
    "# train_labels['Label'] = train_labels['Label'].sample(frac=1, random_state=SEED).values\n",
    "# test_labels['Label'] = test_labels['Label'].sample(frac=1, random_state=SEED).values"
   ]
  },
  {
   "cell_type": "code",
   "execution_count": 9,
   "metadata": {},
   "outputs": [],
   "source": [
    "# from datahandling_utils import filter_on_intensity_and_add_data\n",
    "# extra_vols = 5\n",
    "# train_images = filter_on_intensity_and_add_data(train_images, train_labels, vol_intensities, extra_vols)\n",
    "# test_images = filter_on_intensity_and_add_data(test_images, test_labels, vol_intensities, extra_vols)"
   ]
  },
  {
   "cell_type": "code",
   "execution_count": 10,
   "metadata": {},
   "outputs": [
    {
     "name": "stdout",
     "output_type": "stream",
     "text": [
      "Size training data: 1706. Size test_data: 393\n",
      "Number of true labels in training: 492 of 1706 (28.799999999999997%). True labels in test: 126 of 393 (32.1%)\n"
     ]
    }
   ],
   "source": [
    "label_train_true_size, label_train_size = len(train_labels[train_labels['Label'] == 1]) + len(train_images) - len(train_labels), len(train_images)\n",
    "label_test_true_size, label_test_size = len(test_labels[test_labels['Label'] == 1]) + len(test_images) - len(test_labels), len(test_images)\n",
    "print(f\"Size training data: {len(train_images)}. Size test_data: {len(test_images)}\")\n",
    "print(f\"Number of true labels in training: {label_train_true_size} of {label_train_size} ({round(label_train_true_size/label_train_size, 3)*100}%). True labels in test: {label_test_true_size} of {label_test_size} ({round(label_test_true_size/label_test_size, 3)*100}%)\")"
   ]
  },
  {
   "cell_type": "code",
   "execution_count": 11,
   "metadata": {},
   "outputs": [],
   "source": [
    "from utils.datahandling_utils import SliceIntensityDataset\n",
    "train_dataset, test_dataset = SliceIntensityDataset(train_images, train_labels), SliceIntensityDataset(test_images, test_labels)"
   ]
  },
  {
   "cell_type": "code",
   "execution_count": 12,
   "metadata": {},
   "outputs": [],
   "source": [
    "from torch.utils.data import DataLoader\n",
    "train_loader = DataLoader(train_dataset, batch_size=BATCH_SIZE, shuffle=True)\n",
    "test_loader = DataLoader(test_dataset, batch_size=BATCH_SIZE, shuffle=True)"
   ]
  },
  {
   "cell_type": "code",
   "execution_count": 13,
   "metadata": {},
   "outputs": [
    {
     "name": "stdout",
     "output_type": "stream",
     "text": [
      "Total number of trainable parameters 365737\n"
     ]
    }
   ],
   "source": [
    "model = DenseNet3(64, num_classes=1, dropRate=0.4)\n",
    "print(f\"Total number of trainable parameters {sum(p.numel() for p in model.parameters() if p.requires_grad)}\")"
   ]
  },
  {
   "cell_type": "code",
   "execution_count": 14,
   "metadata": {},
   "outputs": [],
   "source": [
    "import torch\n",
    "torch.cuda.empty_cache()"
   ]
  },
  {
   "cell_type": "code",
   "execution_count": 15,
   "metadata": {},
   "outputs": [
    {
     "name": "stdout",
     "output_type": "stream",
     "text": [
      "Epoch 1 of 10\n",
      "TP 0, FP 0, TN 267, FN 126\n",
      "Validation - Accuracy 0.68 Precision 0.0 and Recall 0.0\n",
      "Training loss 2.984221935272217, validation loss 5.064915180206299\n",
      "\n",
      "Epoch 2 of 10\n",
      "TP 0, FP 0, TN 267, FN 126\n",
      "Validation - Accuracy 0.68 Precision 0.0 and Recall 0.0\n",
      "Training loss 2.2610220909118652, validation loss 11.802813529968262\n",
      "\n",
      "Epoch 3 of 10\n",
      "TP 0, FP 0, TN 267, FN 126\n",
      "Validation - Accuracy 0.68 Precision 0.0 and Recall 0.0\n",
      "Training loss 1.8862793445587158, validation loss 13.746320724487305\n",
      "\n",
      "Epoch 4 of 10\n",
      "TP 0, FP 0, TN 267, FN 126\n",
      "Validation - Accuracy 0.68 Precision 0.0 and Recall 0.0\n",
      "Training loss 1.825361967086792, validation loss 3.6568009853363037\n",
      "\n",
      "Epoch 5 of 10\n",
      "TP 0, FP 0, TN 267, FN 126\n",
      "Validation - Accuracy 0.68 Precision 0.0 and Recall 0.0\n",
      "Training loss 1.5775004625320435, validation loss 15.316168785095215\n",
      "\n",
      "Epoch 6 of 10\n",
      "TP 0, FP 0, TN 267, FN 126\n",
      "Validation - Accuracy 0.68 Precision 0.0 and Recall 0.0\n",
      "Training loss 1.485938549041748, validation loss 10.60998249053955\n",
      "\n",
      "Epoch 7 of 10\n",
      "TP 0, FP 0, TN 267, FN 126\n",
      "Validation - Accuracy 0.68 Precision 0.0 and Recall 0.0\n",
      "Training loss 1.2189306020736694, validation loss 13.09631061553955\n",
      "\n",
      "Epoch 8 of 10\n",
      "TP 0, FP 0, TN 267, FN 126\n",
      "Validation - Accuracy 0.68 Precision 0.0 and Recall 0.0\n",
      "Training loss 1.2787253856658936, validation loss 6.77614688873291\n",
      "\n",
      "Epoch 9 of 10\n",
      "TP 0, FP 0, TN 267, FN 126\n",
      "Validation - Accuracy 0.68 Precision 0.0 and Recall 0.0\n",
      "Training loss 1.1388506889343262, validation loss 4.948582172393799\n",
      "\n",
      "Epoch 10 of 10\n",
      "TP 0, FP 0, TN 267, FN 126\n",
      "Validation - Accuracy 0.68 Precision 0.0 and Recall 0.0\n",
      "Training loss 1.0619289875030518, validation loss 11.278019905090332\n",
      "\n"
     ]
    }
   ],
   "source": [
    "losses = train_and_eval(model, test_loader, train_loader, EPOCHS, device, apr=True)"
   ]
  },
  {
   "cell_type": "code",
   "execution_count": 16,
   "metadata": {},
   "outputs": [
    {
     "name": "stdout",
     "output_type": "stream",
     "text": [
      "Performance on training data:\n",
      "TP: 0, FP: 0, TN: 1214, FN: 492\n",
      "Accuracy: 0.71, Precision: 0, Recall: 0.0\n",
      "Performance on test data:\n",
      "TP: 0, FP: 0, TN: 267, FN: 126\n",
      "Accuracy: 0.68, Precision: 0, Recall: 0.0\n"
     ]
    }
   ],
   "source": [
    "from utils.model_utils import get_model_performance_metrics\n",
    "print(\"Performance on training data:\")\n",
    "train_sorted = get_model_performance_metrics(model, train_images, train_labels, device, True)\n",
    "print(\"Performance on test data:\")\n",
    "val_sorted = get_model_performance_metrics(model, test_images, test_labels, device, True)\n"
   ]
  },
  {
   "cell_type": "code",
   "execution_count": 17,
   "metadata": {},
   "outputs": [],
   "source": [
    "# Saving the model:\n",
    "# torch.save(model.state_dict(), f\"Model_128_{EPOCHS}.pt\")"
   ]
  },
  {
   "cell_type": "code",
   "execution_count": 18,
   "metadata": {},
   "outputs": [
    {
     "data": {
      "text/plain": [
       "<matplotlib.legend.Legend at 0x1adc9bd3550>"
      ]
     },
     "execution_count": 18,
     "metadata": {},
     "output_type": "execute_result"
    },
    {
     "data": {
      "image/png": "[encoded data removed]",
      "text/plain": [
       "<Figure size 1200x600 with 1 Axes>"
      ]
     },
     "metadata": {},
     "output_type": "display_data"
    }
   ],
   "source": [
    "import matplotlib.pyplot as plt\n",
    "plt.style.use('ggplot')\n",
    "fig = plt.figure(figsize=(12, 6))\n",
    "plt.plot(losses[0][:,0], label='Training loss')\n",
    "plt.plot(losses[0][:,1], label='Validation loss')\n",
    "plt.xlabel('Epoch')\n",
    "plt.xticks(range(0, EPOCHS))\n",
    "plt.ylabel('Loss')\n",
    "plt.title('Model loss')\n",
    "plt.legend(loc='upper right')"
   ]
  },
  {
   "cell_type": "code",
   "execution_count": 19,
   "metadata": {},
   "outputs": [
    {
     "data": {
      "text/plain": [
       "<matplotlib.legend.Legend at 0x1adca410130>"
      ]
     },
     "execution_count": 19,
     "metadata": {},
     "output_type": "execute_result"
    },
    {
     "data": {
      "image/png": "[encoded data removed]",
      "text/plain": [
       "<Figure size 1200x600 with 1 Axes>"
      ]
     },
     "metadata": {},
     "output_type": "display_data"
    }
   ],
   "source": [
    "plt.style.use('ggplot')\n",
    "fig = plt.figure(figsize=(12, 6))\n",
    "plt.plot(losses[1][:,0], label='Validation accuracy')\n",
    "plt.plot(losses[1][:,1], label='Validation precision')\n",
    "plt.plot(losses[1][:,2], label='Validation recall')\n",
    "plt.xlabel('Epoch')\n",
    "plt.xticks(range(0, EPOCHS))\n",
    "plt.ylabel('Metric')\n",
    "plt.title('Accuracy, Precision, Recall')\n",
    "plt.legend(loc='lower right')"
   ]
  },
  {
   "cell_type": "code",
   "execution_count": 20,
   "metadata": {},
   "outputs": [
    {
     "ename": "IndexError",
     "evalue": "Cannot choose from an empty sequence",
     "output_type": "error",
     "traceback": [
      "\u001b[1;31m---------------------------------------------------------------------------\u001b[0m",
      "\u001b[1;31mIndexError\u001b[0m                                Traceback (most recent call last)",
      "Cell \u001b[1;32mIn[20], line 29\u001b[0m\n\u001b[0;32m     27\u001b[0m             ax[\u001b[39m3\u001b[39m]\u001b[39m.\u001b[39mset_title(\u001b[39m'\u001b[39m\u001b[39mFalse negative\u001b[39m\u001b[39m'\u001b[39m)\n\u001b[0;32m     28\u001b[0m     fig\u001b[39m.\u001b[39mtight_layout()\n\u001b[1;32m---> 29\u001b[0m display_predictions(train_sorted)\n\u001b[0;32m     30\u001b[0m display_predictions(val_sorted)\n",
      "Cell \u001b[1;32mIn[20], line 7\u001b[0m, in \u001b[0;36mdisplay_predictions\u001b[1;34m(sorted_data)\u001b[0m\n\u001b[0;32m      5\u001b[0m fig, axs \u001b[39m=\u001b[39m plt\u001b[39m.\u001b[39msubplots(\u001b[39m3\u001b[39m, \u001b[39m4\u001b[39m, figsize\u001b[39m=\u001b[39m(\u001b[39m10\u001b[39m, \u001b[39m8\u001b[39m))\n\u001b[0;32m      6\u001b[0m \u001b[39mfor\u001b[39;00m i, ax \u001b[39min\u001b[39;00m \u001b[39menumerate\u001b[39m(axs):\n\u001b[1;32m----> 7\u001b[0m     TP_image \u001b[39m=\u001b[39m rnd\u001b[39m.\u001b[39;49mchoice(sorted_data[\u001b[39m0\u001b[39;49m])[\u001b[39m'\u001b[39m\u001b[39mImagePath\u001b[39m\u001b[39m'\u001b[39m]\n\u001b[0;32m      8\u001b[0m     ax[\u001b[39m0\u001b[39m]\u001b[39m.\u001b[39mimshow(pdc\u001b[39m.\u001b[39mread_file(TP_image)\u001b[39m.\u001b[39mpixel_array, cmap\u001b[39m=\u001b[39m\u001b[39m'\u001b[39m\u001b[39mviridis\u001b[39m\u001b[39m'\u001b[39m)\n\u001b[0;32m      9\u001b[0m     ax[\u001b[39m0\u001b[39m]\u001b[39m.\u001b[39mgrid(\u001b[39mFalse\u001b[39;00m)\n",
      "File \u001b[1;32mc:\\Users\\svenalrik\\anaconda3\\envs\\dev-env\\lib\\random.py:290\u001b[0m, in \u001b[0;36mRandom.choice\u001b[1;34m(self, seq)\u001b[0m\n\u001b[0;32m    288\u001b[0m     i \u001b[39m=\u001b[39m \u001b[39mself\u001b[39m\u001b[39m.\u001b[39m_randbelow(\u001b[39mlen\u001b[39m(seq))\n\u001b[0;32m    289\u001b[0m \u001b[39mexcept\u001b[39;00m \u001b[39mValueError\u001b[39;00m:\n\u001b[1;32m--> 290\u001b[0m     \u001b[39mraise\u001b[39;00m \u001b[39mIndexError\u001b[39;00m(\u001b[39m'\u001b[39m\u001b[39mCannot choose from an empty sequence\u001b[39m\u001b[39m'\u001b[39m) \u001b[39mfrom\u001b[39;00m \u001b[39mNone\u001b[39m\n\u001b[0;32m    291\u001b[0m \u001b[39mreturn\u001b[39;00m seq[i]\n",
      "\u001b[1;31mIndexError\u001b[0m: Cannot choose from an empty sequence"
     ]
    },
    {
     "data": {
      "image/png": "[encoded data removed]",
      "text/plain": [
       "<Figure size 1000x800 with 12 Axes>"
      ]
     },
     "metadata": {},
     "output_type": "display_data"
    }
   ],
   "source": [
    "# Displaying images with TP, TN, FN\n",
    "# from visualization_utils import display_predictions\n",
    "import random as rnd\n",
    "def display_predictions(sorted_data):\n",
    "    fig, axs = plt.subplots(3, 4, figsize=(10, 8))\n",
    "    for i, ax in enumerate(axs):\n",
    "        TP_image = rnd.choice(sorted_data[0])['ImagePath']\n",
    "        ax[0].imshow(pdc.read_file(TP_image).pixel_array, cmap='viridis')\n",
    "        ax[0].grid(False)\n",
    "        ax[0].axis('off')\n",
    "        FP_image = rnd.choice(sorted_data[1])['ImagePath']\n",
    "        ax[1].imshow(pdc.read_file(FP_image).pixel_array, cmap='viridis')\n",
    "        ax[1].grid(False)\n",
    "        ax[1].axis('off')\n",
    "        TN_image = rnd.choice(sorted_data[2])['ImagePath']\n",
    "        ax[2].imshow(pdc.read_file(TN_image).pixel_array, cmap='viridis')\n",
    "        ax[2].grid(False)\n",
    "        ax[2].axis('off')\n",
    "        FN_image = rnd.choice(sorted_data[3])['ImagePath']\n",
    "        ax[3].imshow(pdc.read_file(FN_image).pixel_array, cmap='viridis')\n",
    "        ax[3].grid(False)\n",
    "        ax[3].axis('off')\n",
    "        if i == 0:\n",
    "            ax[0].set_title('True positive')\n",
    "            ax[1].set_title('False positive')\n",
    "            ax[2].set_title('True  negative')\n",
    "            ax[3].set_title('False negative')\n",
    "    fig.tight_layout()\n",
    "display_predictions(train_sorted)\n",
    "display_predictions(val_sorted)\n"
   ]
  },
  {
   "cell_type": "code",
   "execution_count": null,
   "metadata": {},
   "outputs": [
    {
     "data": {
      "text/plain": [
       "[Patient                                      4\n",
       " Volume                                      13\n",
       " Slice                                        2\n",
       " ImagePath    D:/iCAT_IMAGES/004/004_20_578.dcm\n",
       " Name: 14892, dtype: object,\n",
       " Patient                                      4\n",
       " Volume                                      13\n",
       " Slice                                       20\n",
       " ImagePath    D:/iCAT_IMAGES/004/004_20_596.dcm\n",
       " Name: 14912, dtype: object,\n",
       " Patient                                      4\n",
       " Volume                                      13\n",
       " Slice                                       41\n",
       " ImagePath    D:/iCAT_IMAGES/004/004_20_617.dcm\n",
       " Name: 14936, dtype: object,\n",
       " Patient                                      9\n",
       " Volume                                      13\n",
       " Slice                                       17\n",
       " ImagePath    D:/iCAT_IMAGES/009/009_17_593.dcm\n",
       " Name: 34109, dtype: object,\n",
       " Patient                                      9\n",
       " Volume                                      13\n",
       " Slice                                       28\n",
       " ImagePath    D:/iCAT_IMAGES/009/009_17_604.dcm\n",
       " Name: 34122, dtype: object,\n",
       " Patient                                      9\n",
       " Volume                                      13\n",
       " Slice                                       33\n",
       " ImagePath    D:/iCAT_IMAGES/009/009_17_609.dcm\n",
       " Name: 34127, dtype: object,\n",
       " Patient                                     13\n",
       " Volume                                      14\n",
       " Slice                                       20\n",
       " ImagePath    D:/iCAT_IMAGES/013/013_17_644.dcm\n",
       " Name: 49525, dtype: object,\n",
       " Patient                                     13\n",
       " Volume                                      14\n",
       " Slice                                       40\n",
       " ImagePath    D:/iCAT_IMAGES/013/013_17_664.dcm\n",
       " Name: 49547, dtype: object,\n",
       " Patient                                     14\n",
       " Volume                                      14\n",
       " Slice                                        5\n",
       " ImagePath    D:/iCAT_IMAGES/014/014_17_629.dcm\n",
       " Name: 53348, dtype: object,\n",
       " Patient                                     14\n",
       " Volume                                      14\n",
       " Slice                                       18\n",
       " ImagePath    D:/iCAT_IMAGES/014/014_17_642.dcm\n",
       " Name: 53363, dtype: object,\n",
       " Patient                                     14\n",
       " Volume                                      14\n",
       " Slice                                       27\n",
       " ImagePath    D:/iCAT_IMAGES/014/014_17_651.dcm\n",
       " Name: 53373, dtype: object,\n",
       " Patient                                     14\n",
       " Volume                                      14\n",
       " Slice                                       30\n",
       " ImagePath    D:/iCAT_IMAGES/014/014_17_654.dcm\n",
       " Name: 53376, dtype: object,\n",
       " Patient                                     15\n",
       " Volume                                      13\n",
       " Slice                                       13\n",
       " ImagePath    D:/iCAT_IMAGES/015/015_17_589.dcm\n",
       " Name: 57143, dtype: object,\n",
       " Patient                                     15\n",
       " Volume                                      13\n",
       " Slice                                       24\n",
       " ImagePath    D:/iCAT_IMAGES/015/015_17_600.dcm\n",
       " Name: 57157, dtype: object,\n",
       " Patient                                     15\n",
       " Volume                                      13\n",
       " Slice                                       33\n",
       " ImagePath    D:/iCAT_IMAGES/015/015_17_609.dcm\n",
       " Name: 57166, dtype: object,\n",
       " Patient                                     16\n",
       " Volume                                      13\n",
       " Slice                                        4\n",
       " ImagePath    D:/iCAT_IMAGES/016/016_17_580.dcm\n",
       " Name: 60974, dtype: object,\n",
       " Patient                                     16\n",
       " Volume                                      13\n",
       " Slice                                       36\n",
       " ImagePath    D:/iCAT_IMAGES/016/016_17_612.dcm\n",
       " Name: 61010, dtype: object,\n",
       " Patient                                     18\n",
       " Volume                                      13\n",
       " Slice                                        3\n",
       " ImagePath    D:/iCAT_IMAGES/018/018_20_579.dcm\n",
       " Name: 68652, dtype: object,\n",
       " Patient                                     18\n",
       " Volume                                      13\n",
       " Slice                                       23\n",
       " ImagePath    D:/iCAT_IMAGES/018/018_20_599.dcm\n",
       " Name: 68674, dtype: object,\n",
       " Patient                                     18\n",
       " Volume                                      13\n",
       " Slice                                       46\n",
       " ImagePath    D:/iCAT_IMAGES/018/018_20_622.dcm\n",
       " Name: 68701, dtype: object,\n",
       " Patient                                     27\n",
       " Volume                                      14\n",
       " Slice                                       39\n",
       " ImagePath    D:/iCAT_IMAGES/027/027_20_663.dcm\n",
       " Name: 103306, dtype: object,\n",
       " Patient                                     27\n",
       " Volume                                      14\n",
       " Slice                                       48\n",
       " ImagePath    D:/iCAT_IMAGES/027/027_20_672.dcm\n",
       " Name: 103316, dtype: object,\n",
       " Patient                                     33\n",
       " Volume                                      14\n",
       " Slice                                        2\n",
       " ImagePath    D:/iCAT_IMAGES/033/033_20_626.dcm\n",
       " Name: 126305, dtype: object,\n",
       " Patient                                     33\n",
       " Volume                                      14\n",
       " Slice                                       46\n",
       " ImagePath    D:/iCAT_IMAGES/033/033_20_670.dcm\n",
       " Name: 126354, dtype: object,\n",
       " Patient                                     33\n",
       " Volume                                      14\n",
       " Slice                                       47\n",
       " ImagePath    D:/iCAT_IMAGES/033/033_20_671.dcm\n",
       " Name: 126355, dtype: object,\n",
       " Patient                                     58\n",
       " Volume                                      13\n",
       " Slice                                        4\n",
       " ImagePath    D:/iCAT_IMAGES/058/058_21_580.dcm\n",
       " Name: 222254, dtype: object,\n",
       " Patient                                     58\n",
       " Volume                                      13\n",
       " Slice                                        5\n",
       " ImagePath    D:/iCAT_IMAGES/058/058_21_581.dcm\n",
       " Name: 222255, dtype: object,\n",
       " Patient                                     58\n",
       " Volume                                      13\n",
       " Slice                                       11\n",
       " ImagePath    D:/iCAT_IMAGES/058/058_21_587.dcm\n",
       " Name: 222261, dtype: object,\n",
       " Patient                                     58\n",
       " Volume                                      13\n",
       " Slice                                       26\n",
       " ImagePath    D:/iCAT_IMAGES/058/058_21_602.dcm\n",
       " Name: 222279, dtype: object,\n",
       " Patient                                     58\n",
       " Volume                                      13\n",
       " Slice                                       34\n",
       " ImagePath    D:/iCAT_IMAGES/058/058_21_610.dcm\n",
       " Name: 222288, dtype: object,\n",
       " Patient                                     59\n",
       " Volume                                      13\n",
       " Slice                                       39\n",
       " ImagePath    D:/iCAT_IMAGES/059/059_19_615.dcm\n",
       " Name: 226133, dtype: object,\n",
       " Patient                                     59\n",
       " Volume                                      13\n",
       " Slice                                       40\n",
       " ImagePath    D:/iCAT_IMAGES/059/059_19_616.dcm\n",
       " Name: 226134, dtype: object,\n",
       " Patient                                     60\n",
       " Volume                                      13\n",
       " Slice                                        5\n",
       " ImagePath    D:/iCAT_IMAGES/060/060_22_581.dcm\n",
       " Name: 229935, dtype: object,\n",
       " Patient                                     60\n",
       " Volume                                      13\n",
       " Slice                                       13\n",
       " ImagePath    D:/iCAT_IMAGES/060/060_22_589.dcm\n",
       " Name: 229943, dtype: object,\n",
       " Patient                                     60\n",
       " Volume                                      13\n",
       " Slice                                       20\n",
       " ImagePath    D:/iCAT_IMAGES/060/060_22_596.dcm\n",
       " Name: 229951, dtype: object,\n",
       " Patient                                     60\n",
       " Volume                                      13\n",
       " Slice                                       26\n",
       " ImagePath    D:/iCAT_IMAGES/060/060_22_602.dcm\n",
       " Name: 229959, dtype: object,\n",
       " Patient                                     60\n",
       " Volume                                      13\n",
       " Slice                                       30\n",
       " ImagePath    D:/iCAT_IMAGES/060/060_22_606.dcm\n",
       " Name: 229963, dtype: object,\n",
       " Patient                                     63\n",
       " Volume                                      14\n",
       " Slice                                       12\n",
       " ImagePath    D:/iCAT_IMAGES/063/063_25_636.dcm\n",
       " Name: 241516, dtype: object,\n",
       " Patient                                     63\n",
       " Volume                                      14\n",
       " Slice                                       19\n",
       " ImagePath    D:/iCAT_IMAGES/063/063_25_643.dcm\n",
       " Name: 241524, dtype: object,\n",
       " Patient                                     63\n",
       " Volume                                      14\n",
       " Slice                                       21\n",
       " ImagePath    D:/iCAT_IMAGES/063/063_25_645.dcm\n",
       " Name: 241526, dtype: object,\n",
       " Patient                                     68\n",
       " Volume                                      15\n",
       " Slice                                       19\n",
       " ImagePath    D:/iCAT_IMAGES/068/068_22_691.dcm\n",
       " Name: 260777, dtype: object,\n",
       " Patient                                     68\n",
       " Volume                                      15\n",
       " Slice                                       23\n",
       " ImagePath    D:/iCAT_IMAGES/068/068_22_695.dcm\n",
       " Name: 260781, dtype: object,\n",
       " Patient                                      4\n",
       " Volume                                      14\n",
       " Slice                                        2\n",
       " ImagePath    D:/iCAT_IMAGES/004/004_20_626.dcm\n",
       " Name: 14946, dtype: object,\n",
       " Patient                                      4\n",
       " Volume                                      15\n",
       " Slice                                        2\n",
       " ImagePath    D:/iCAT_IMAGES/004/004_20_674.dcm\n",
       " Name: 14999, dtype: object,\n",
       " Patient                                      9\n",
       " Volume                                      14\n",
       " Slice                                       28\n",
       " ImagePath    D:/iCAT_IMAGES/009/009_17_652.dcm\n",
       " Name: 34175, dtype: object,\n",
       " Patient                                     14\n",
       " Volume                                      15\n",
       " Slice                                        5\n",
       " ImagePath    D:/iCAT_IMAGES/014/014_17_677.dcm\n",
       " Name: 53401, dtype: object,\n",
       " Patient                                     14\n",
       " Volume                                      15\n",
       " Slice                                       18\n",
       " ImagePath    D:/iCAT_IMAGES/014/014_17_690.dcm\n",
       " Name: 53416, dtype: object,\n",
       " Patient                                     14\n",
       " Volume                                      15\n",
       " Slice                                       27\n",
       " ImagePath    D:/iCAT_IMAGES/014/014_17_699.dcm\n",
       " Name: 53425, dtype: object,\n",
       " Patient                                     14\n",
       " Volume                                      15\n",
       " Slice                                       30\n",
       " ImagePath    D:/iCAT_IMAGES/014/014_17_702.dcm\n",
       " Name: 53430, dtype: object,\n",
       " Patient                                     15\n",
       " Volume                                      14\n",
       " Slice                                       13\n",
       " ImagePath    D:/iCAT_IMAGES/015/015_17_637.dcm\n",
       " Name: 57197, dtype: object,\n",
       " Patient                                     15\n",
       " Volume                                      14\n",
       " Slice                                       24\n",
       " ImagePath    D:/iCAT_IMAGES/015/015_17_648.dcm\n",
       " Name: 57209, dtype: object,\n",
       " Patient                                     16\n",
       " Volume                                      14\n",
       " Slice                                        4\n",
       " ImagePath    D:/iCAT_IMAGES/016/016_17_628.dcm\n",
       " Name: 61027, dtype: object,\n",
       " Patient                                     16\n",
       " Volume                                      15\n",
       " Slice                                        4\n",
       " ImagePath    D:/iCAT_IMAGES/016/016_17_676.dcm\n",
       " Name: 61080, dtype: object,\n",
       " Patient                                     16\n",
       " Volume                                      16\n",
       " Slice                                        4\n",
       " ImagePath    D:/iCAT_IMAGES/016/016_17_724.dcm\n",
       " Name: 61134, dtype: object,\n",
       " Patient                                     16\n",
       " Volume                                      17\n",
       " Slice                                        4\n",
       " ImagePath    D:/iCAT_IMAGES/016/016_17_772.dcm\n",
       " Name: 61187, dtype: object,\n",
       " Patient                                     16\n",
       " Volume                                      18\n",
       " Slice                                        4\n",
       " ImagePath    D:/iCAT_IMAGES/016/016_17_820.dcm\n",
       " Name: 61241, dtype: object,\n",
       " Patient                                     18\n",
       " Volume                                      14\n",
       " Slice                                        3\n",
       " ImagePath    D:/iCAT_IMAGES/018/018_20_627.dcm\n",
       " Name: 68706, dtype: object,\n",
       " Patient                                     18\n",
       " Volume                                      14\n",
       " Slice                                       23\n",
       " ImagePath    D:/iCAT_IMAGES/018/018_20_647.dcm\n",
       " Name: 68728, dtype: object,\n",
       " Patient                                     18\n",
       " Volume                                      14\n",
       " Slice                                       46\n",
       " ImagePath    D:/iCAT_IMAGES/018/018_20_670.dcm\n",
       " Name: 68754, dtype: object,\n",
       " Patient                                     33\n",
       " Volume                                      15\n",
       " Slice                                        2\n",
       " ImagePath    D:/iCAT_IMAGES/033/033_20_674.dcm\n",
       " Name: 126358, dtype: object,\n",
       " Patient                                     58\n",
       " Volume                                      14\n",
       " Slice                                        4\n",
       " ImagePath    D:/iCAT_IMAGES/058/058_21_628.dcm\n",
       " Name: 222307, dtype: object,\n",
       " Patient                                     58\n",
       " Volume                                      14\n",
       " Slice                                        5\n",
       " ImagePath    D:/iCAT_IMAGES/058/058_21_629.dcm\n",
       " Name: 222308, dtype: object,\n",
       " Patient                                     58\n",
       " Volume                                      14\n",
       " Slice                                       11\n",
       " ImagePath    D:/iCAT_IMAGES/058/058_21_635.dcm\n",
       " Name: 222315, dtype: object,\n",
       " Patient                                     58\n",
       " Volume                                      14\n",
       " Slice                                       26\n",
       " ImagePath    D:/iCAT_IMAGES/058/058_21_650.dcm\n",
       " Name: 222332, dtype: object,\n",
       " Patient                                     60\n",
       " Volume                                      14\n",
       " Slice                                        5\n",
       " ImagePath    D:/iCAT_IMAGES/060/060_22_629.dcm\n",
       " Name: 229988, dtype: object,\n",
       " Patient                                     63\n",
       " Volume                                      15\n",
       " Slice                                       19\n",
       " ImagePath    D:/iCAT_IMAGES/063/063_25_691.dcm\n",
       " Name: 241577, dtype: object,\n",
       " Patient                                     63\n",
       " Volume                                      15\n",
       " Slice                                       21\n",
       " ImagePath    D:/iCAT_IMAGES/063/063_25_693.dcm\n",
       " Name: 241579, dtype: object]"
      ]
     },
     "execution_count": 21,
     "metadata": {},
     "output_type": "execute_result"
    }
   ],
   "source": [
    "val_sorted[3]"
   ]
  },
  {
   "cell_type": "code",
   "execution_count": null,
   "metadata": {},
   "outputs": [],
   "source": []
  }
 ],
 "metadata": {
  "kernelspec": {
   "display_name": "dev-env",
   "language": "python",
   "name": "python3"
  },
  "language_info": {
   "codemirror_mode": {
    "name": "ipython",
    "version": 3
   },
   "file_extension": ".py",
   "mimetype": "text/x-python",
   "name": "python",
   "nbconvert_exporter": "python",
   "pygments_lexer": "ipython3",
   "version": "3.8.15"
  },
  "orig_nbformat": 4,
  "vscode": {
   "interpreter": {
    "hash": "53ae4386a8a369d45cfc817803211de947c89524368a6c2e800bd680dfb4a1fb"
   }
  }
 },
 "nbformat": 4,
 "nbformat_minor": 2
}
